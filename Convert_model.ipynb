{
 "cells": [
  {
   "cell_type": "code",
   "execution_count": 23,
   "metadata": {},
   "outputs": [],
   "source": [
    "import numpy as np\n",
    "import tensorflow as tf\n",
    "import cv2\n",
    "import matplotlib.pyplot as plt\n",
    "from tensorflow.keras.models import load_model\n",
    "from keras.preprocessing.image import ImageDataGenerator\n",
    "from tensorflow.keras import optimizers"
   ]
  },
  {
   "cell_type": "code",
   "execution_count": 61,
   "metadata": {},
   "outputs": [
    {
     "name": "stdout",
     "output_type": "stream",
     "text": [
      "Found 912 images belonging to 53 classes.\n"
     ]
    }
   ],
   "source": [
    "train_datagen = ImageDataGenerator(rescale = 1./255,\n",
    "                             shear_range = 0.1,\n",
    "                             zoom_range=[0.8, 1.1],\n",
    "                             rotation_range=1, \n",
    "                             width_shift_range = 0.1,\n",
    "                             height_shift_range = 0.1,\n",
    "                             fill_mode = 'constant',\n",
    "                             featurewise_center = True,\n",
    "                             cval = 0,\n",
    "                             featurewise_std_normalization=True,\n",
    "                                   \n",
    "                            )\n",
    "train_generator = train_datagen.flow_from_directory(\"last_data\",\n",
    "                                                   batch_size = 16,\n",
    "                                                   class_mode = 'sparse',\n",
    "                                                   color_mode='grayscale',\n",
    "                                                   target_size = (56, 56))\n"
   ]
  },
  {
   "cell_type": "code",
   "execution_count": 62,
   "metadata": {
    "collapsed": true,
    "jupyter": {
     "outputs_hidden": true
    }
   },
   "outputs": [
    {
     "name": "stdout",
     "output_type": "stream",
     "text": [
      "Model: \"sequential_4\"\n",
      "_________________________________________________________________\n",
      "Layer (type)                 Output Shape              Param #   \n",
      "=================================================================\n",
      "conv2d_24 (Conv2D)           (None, 56, 56, 16)        160       \n",
      "_________________________________________________________________\n",
      "conv2d_25 (Conv2D)           (None, 56, 56, 16)        2320      \n",
      "_________________________________________________________________\n",
      "max_pooling2d_8 (MaxPooling2 (None, 28, 28, 16)        0         \n",
      "_________________________________________________________________\n",
      "conv2d_26 (Conv2D)           (None, 28, 28, 32)        4640      \n",
      "_________________________________________________________________\n",
      "conv2d_27 (Conv2D)           (None, 28, 28, 32)        9248      \n",
      "_________________________________________________________________\n",
      "max_pooling2d_9 (MaxPooling2 (None, 14, 14, 32)        0         \n",
      "_________________________________________________________________\n",
      "conv2d_28 (Conv2D)           (None, 14, 14, 32)        9248      \n",
      "_________________________________________________________________\n",
      "flatten_4 (Flatten)          (None, 6272)              0         \n",
      "_________________________________________________________________\n",
      "dense_8 (Dense)              (None, 300)               1881900   \n",
      "_________________________________________________________________\n",
      "dropout_4 (Dropout)          (None, 300)               0         \n",
      "_________________________________________________________________\n",
      "dense_9 (Dense)              (None, 53)                15953     \n",
      "=================================================================\n",
      "Total params: 1,923,469\n",
      "Trainable params: 1,923,469\n",
      "Non-trainable params: 0\n",
      "_________________________________________________________________\n"
     ]
    }
   ],
   "source": [
    "from tensorflow.keras.models import Sequential\n",
    "from tensorflow.keras.layers import Dense, Dropout, Flatten,Conv2D, MaxPooling2D\n",
    "from tensorflow.keras import optimizers\n",
    "\n",
    "model = Sequential()\n",
    "model.add((Conv2D(16, kernel_size=(3, 3), strides=(1, 1), padding='same', activation='relu', input_shape=(56,56,1))))\n",
    "model.add((Conv2D(16, kernel_size=(3, 3), strides=(1, 1), padding='same', activation='relu')))\n",
    "model.add(MaxPooling2D(2,2))\n",
    "model.add((Conv2D(32, kernel_size=(3, 3), strides=(1, 1), padding='same', activation='relu')))\n",
    "model.add((Conv2D(32, kernel_size=(3, 3), strides=(1, 1), padding='same', activation='relu')))\n",
    "model.add(MaxPooling2D(2,2))\n",
    "model.add((Conv2D(32, kernel_size=(3, 3), strides=(1, 1), padding='same', activation='relu')))\n",
    "model.add(Flatten())\n",
    "model.add(Dense(300,activation='relu'))\n",
    "model.add(Dropout(0.2))\n",
    "model.add(Dense(53,activation='softmax'))\n",
    "model.summary()\n",
    "adam = optimizers.Adam(lr=0.001)\n",
    "model.compile(optimizer=adam, loss='sparse_categorical_crossentropy', metrics=['accuracy'])"
   ]
  },
  {
   "cell_type": "code",
   "execution_count": 15,
   "metadata": {
    "jupyter": {
     "source_hidden": true
    }
   },
   "outputs": [],
   "source": [
    "convert = load_model(\"base_1_1.h5\")"
   ]
  },
  {
   "cell_type": "code",
   "execution_count": 19,
   "metadata": {
    "jupyter": {
     "source_hidden": true
    }
   },
   "outputs": [
    {
     "name": "stdout",
     "output_type": "stream",
     "text": [
      "Found 912 images belonging to 53 classes.\n"
     ]
    }
   ],
   "source": [
    "train_datagen = ImageDataGenerator(rescale = 1./255,\n",
    "                             \n",
    "                             zoom_range=[0.9, 1.1],\n",
    "                             rotation_range=20, \n",
    "                             width_shift_range = 0.05,\n",
    "                             height_shift_range = 0.05,\n",
    "                             fill_mode = 'constant',\n",
    "                             featurewise_center = True,\n",
    "                             cval = 0,\n",
    "                             featurewise_std_normalization=True,      \n",
    "                            )\n",
    "train_generator = train_datagen.flow_from_directory(\"last_data\",\n",
    "                                                   batch_size = 16,\n",
    "                                                   class_mode = 'sparse',\n",
    "                                                   color_mode='grayscale',\n",
    "                                                   target_size = (56, 56))\n",
    "adam = optimizers.Adam(lr=0.0005)\n",
    "convert.compile(optimizer=adam, loss='sparse_categorical_crossentropy', metrics=['accuracy'])"
   ]
  },
  {
   "cell_type": "code",
   "execution_count": 64,
   "metadata": {
    "collapsed": true,
    "jupyter": {
     "outputs_hidden": true
    }
   },
   "outputs": [
    {
     "name": "stdout",
     "output_type": "stream",
     "text": [
      "WARNING:tensorflow:sample_weight modes were coerced from\n",
      "  ...\n",
      "    to  \n",
      "  ['...']\n",
      "Train for 48 steps\n",
      "Epoch 1/50\n",
      "48/48 [==============================] - 1s 15ms/step - loss: 0.2607 - accuracy: 0.9258\n",
      "Epoch 2/50\n",
      "48/48 [==============================] - 1s 16ms/step - loss: 0.2409 - accuracy: 0.9167\n",
      "Epoch 3/50\n",
      "48/48 [==============================] - 1s 16ms/step - loss: 0.2826 - accuracy: 0.9102\n",
      "Epoch 4/50\n",
      "48/48 [==============================] - 1s 15ms/step - loss: 0.2294 - accuracy: 0.9167\n",
      "Epoch 5/50\n",
      "48/48 [==============================] - 1s 15ms/step - loss: 0.2113 - accuracy: 0.9362\n",
      "Epoch 6/50\n",
      "48/48 [==============================] - 1s 16ms/step - loss: 0.2230 - accuracy: 0.9219\n",
      "Epoch 7/50\n",
      "48/48 [==============================] - 1s 16ms/step - loss: 0.2303 - accuracy: 0.9089\n",
      "Epoch 8/50\n",
      "48/48 [==============================] - 1s 15ms/step - loss: 0.2155 - accuracy: 0.9271\n",
      "Epoch 9/50\n",
      "48/48 [==============================] - 1s 15ms/step - loss: 0.2482 - accuracy: 0.9297\n",
      "Epoch 10/50\n",
      "48/48 [==============================] - 1s 15ms/step - loss: 0.2112 - accuracy: 0.9310\n",
      "Epoch 11/50\n",
      "48/48 [==============================] - 1s 15ms/step - loss: 0.1700 - accuracy: 0.9427\n",
      "Epoch 12/50\n",
      "48/48 [==============================] - 1s 15ms/step - loss: 0.2054 - accuracy: 0.9375\n",
      "Epoch 13/50\n",
      "48/48 [==============================] - 1s 16ms/step - loss: 0.1917 - accuracy: 0.9349\n",
      "Epoch 14/50\n",
      "48/48 [==============================] - 1s 16ms/step - loss: 0.1547 - accuracy: 0.9479\n",
      "Epoch 15/50\n",
      "48/48 [==============================] - 1s 15ms/step - loss: 0.1675 - accuracy: 0.9479\n",
      "Epoch 16/50\n",
      "48/48 [==============================] - 1s 15ms/step - loss: 0.1745 - accuracy: 0.9453\n",
      "Epoch 17/50\n",
      "48/48 [==============================] - 1s 15ms/step - loss: 0.1431 - accuracy: 0.9557\n",
      "Epoch 18/50\n",
      "48/48 [==============================] - 1s 15ms/step - loss: 0.2541 - accuracy: 0.9219\n",
      "Epoch 19/50\n",
      "48/48 [==============================] - 1s 16ms/step - loss: 0.1907 - accuracy: 0.9310\n",
      "Epoch 20/50\n",
      "48/48 [==============================] - 1s 16ms/step - loss: 0.1795 - accuracy: 0.9453\n",
      "Epoch 21/50\n",
      "48/48 [==============================] - 1s 15ms/step - loss: 0.1667 - accuracy: 0.9453\n",
      "Epoch 22/50\n",
      "48/48 [==============================] - 1s 16ms/step - loss: 0.1361 - accuracy: 0.9596\n",
      "Epoch 23/50\n",
      "48/48 [==============================] - 1s 15ms/step - loss: 0.1555 - accuracy: 0.9492\n",
      "Epoch 24/50\n",
      "48/48 [==============================] - 1s 16ms/step - loss: 0.1935 - accuracy: 0.9362\n",
      "Epoch 25/50\n",
      "48/48 [==============================] - 1s 15ms/step - loss: 0.1631 - accuracy: 0.9362\n",
      "Epoch 26/50\n",
      "48/48 [==============================] - 1s 15ms/step - loss: 0.1550 - accuracy: 0.9414\n",
      "Epoch 27/50\n",
      "48/48 [==============================] - 1s 16ms/step - loss: 0.1566 - accuracy: 0.9492\n",
      "Epoch 28/50\n",
      "48/48 [==============================] - 1s 15ms/step - loss: 0.1421 - accuracy: 0.9570\n",
      "Epoch 29/50\n",
      "48/48 [==============================] - 1s 15ms/step - loss: 0.1440 - accuracy: 0.9557\n",
      "Epoch 30/50\n",
      "48/48 [==============================] - 1s 15ms/step - loss: 0.1585 - accuracy: 0.9505\n",
      "Epoch 31/50\n",
      "48/48 [==============================] - 1s 16ms/step - loss: 0.1953 - accuracy: 0.9362\n",
      "Epoch 32/50\n",
      "48/48 [==============================] - 1s 16ms/step - loss: 0.1314 - accuracy: 0.9518\n",
      "Epoch 33/50\n",
      "48/48 [==============================] - 1s 16ms/step - loss: 0.1961 - accuracy: 0.9284\n",
      "Epoch 34/50\n",
      "48/48 [==============================] - 1s 16ms/step - loss: 0.1690 - accuracy: 0.9570\n",
      "Epoch 35/50\n",
      "48/48 [==============================] - 1s 16ms/step - loss: 0.2059 - accuracy: 0.9297\n",
      "Epoch 36/50\n",
      "48/48 [==============================] - 1s 15ms/step - loss: 0.1080 - accuracy: 0.9531\n",
      "Epoch 37/50\n",
      "48/48 [==============================] - 1s 16ms/step - loss: 0.1287 - accuracy: 0.9505\n",
      "Epoch 38/50\n",
      "48/48 [==============================] - 1s 16ms/step - loss: 0.1722 - accuracy: 0.9388\n",
      "Epoch 39/50\n",
      "48/48 [==============================] - 1s 15ms/step - loss: 0.1420 - accuracy: 0.9570\n",
      "Epoch 40/50\n",
      "48/48 [==============================] - 1s 16ms/step - loss: 0.1612 - accuracy: 0.9427\n",
      "Epoch 41/50\n",
      "48/48 [==============================] - 1s 16ms/step - loss: 0.1403 - accuracy: 0.9492\n",
      "Epoch 42/50\n",
      "48/48 [==============================] - 1s 16ms/step - loss: 0.1399 - accuracy: 0.9518\n",
      "Epoch 43/50\n",
      "48/48 [==============================] - 1s 16ms/step - loss: 0.1076 - accuracy: 0.9661\n",
      "Epoch 44/50\n",
      "48/48 [==============================] - 1s 15ms/step - loss: 0.1229 - accuracy: 0.9544\n",
      "Epoch 45/50\n",
      "48/48 [==============================] - 1s 15ms/step - loss: 0.1363 - accuracy: 0.9531\n",
      "Epoch 46/50\n",
      "48/48 [==============================] - 1s 16ms/step - loss: 0.1350 - accuracy: 0.9505\n",
      "Epoch 47/50\n",
      "48/48 [==============================] - 1s 16ms/step - loss: 0.1849 - accuracy: 0.9388\n",
      "Epoch 48/50\n",
      "48/48 [==============================] - 1s 15ms/step - loss: 0.1343 - accuracy: 0.9648\n",
      "Epoch 49/50\n",
      "48/48 [==============================] - 1s 16ms/step - loss: 0.1015 - accuracy: 0.9622\n",
      "Epoch 50/50\n",
      "48/48 [==============================] - 1s 15ms/step - loss: 0.1289 - accuracy: 0.9505\n"
     ]
    },
    {
     "data": {
      "text/plain": [
       "<tensorflow.python.keras.callbacks.History at 0x7f8b79e60710>"
      ]
     },
     "execution_count": 64,
     "metadata": {},
     "output_type": "execute_result"
    }
   ],
   "source": [
    "model.fit_generator(\n",
    "        train_generator,\n",
    "        steps_per_epoch= 48,\n",
    "        epochs=50\n",
    "        )"
   ]
  },
  {
   "cell_type": "code",
   "execution_count": 65,
   "metadata": {},
   "outputs": [],
   "source": [
    "from tensorflow.keras.models import load_model\n",
    "convert.save(\"test7.h5\")"
   ]
  },
  {
   "cell_type": "code",
   "execution_count": null,
   "metadata": {},
   "outputs": [],
   "source": []
  }
 ],
 "metadata": {
  "kernelspec": {
   "display_name": "Python 3",
   "language": "python",
   "name": "python3"
  },
  "language_info": {
   "codemirror_mode": {
    "name": "ipython",
    "version": 3
   },
   "file_extension": ".py",
   "mimetype": "text/x-python",
   "name": "python",
   "nbconvert_exporter": "python",
   "pygments_lexer": "ipython3",
   "version": "3.7.6"
  }
 },
 "nbformat": 4,
 "nbformat_minor": 4
}
